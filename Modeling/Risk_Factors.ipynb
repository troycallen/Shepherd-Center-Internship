{
  "nbformat": 4,
  "nbformat_minor": 0,
  "metadata": {
    "colab": {
      "provenance": []
    },
    "kernelspec": {
      "name": "python3",
      "display_name": "Python 3"
    },
    "language_info": {
      "name": "python"
    }
  },
  "cells": [
    {
      "cell_type": "code",
      "source": [
        "from google.colab import drive\n",
        "drive.mount('/content/drive')"
      ],
      "metadata": {
        "colab": {
          "base_uri": "https://localhost:8080/"
        },
        "id": "RWRSl3a1r7ZR",
        "outputId": "52318094-b4e9-422c-b2af-a24dda69b40b"
      },
      "execution_count": 56,
      "outputs": [
        {
          "output_type": "stream",
          "name": "stdout",
          "text": [
            "Drive already mounted at /content/drive; to attempt to forcibly remount, call drive.mount(\"/content/drive\", force_remount=True).\n"
          ]
        }
      ]
    },
    {
      "cell_type": "markdown",
      "source": [
        "Investigating Question #3\n",
        "\n",
        "What are the predictive PU risk factors associated with demographic/injury, psychological, socio-environments, and protective/risk behaviors?\n",
        "\n",
        "First we create a function to code BPrUlcers into binary format:"
      ],
      "metadata": {
        "id": "eXMYbBHUoYbE"
      }
    },
    {
      "cell_type": "code",
      "execution_count": 57,
      "metadata": {
        "id": "jqDbsKWAmWd9"
      },
      "outputs": [],
      "source": [
        "# Create a function to map bpr values to either 0 (no) or 1 (yes)\n",
        "# Not needed ATM since we are just dropping values of 7 and 9\n",
        "\n",
        "import numpy as np\n",
        "\n",
        "def recode_bpr_ulcer(value):\n",
        "  if value == 1:\n",
        "    return 1\n",
        "  elif value == 0:\n",
        "    return 0\n",
        "  else:\n",
        "    raise ValueError(\"Invalid Value\")"
      ]
    },
    {
      "cell_type": "code",
      "source": [
        "def recode_core_injury_severity(value):\n",
        "        if value == \"CoreHighC\":\n",
        "            return 1\n",
        "        elif value == \"CoreLowC\":\n",
        "            return 2\n",
        "        elif value == \"CorePara\":\n",
        "            return 3\n",
        "        elif value == \"CoreD\":\n",
        "            return 4\n",
        "        elif value == \"CoreVent\":\n",
        "            return 5\n",
        "        else:\n",
        "            raise ValueError(\"Invalid value\")"
      ],
      "metadata": {
        "id": "8_JSkZhVocgH"
      },
      "execution_count": 58,
      "outputs": []
    },
    {
      "cell_type": "markdown",
      "source": [
        "Then we begin actually creating the multiple linear regression model including a variety of variables related to demographics, psychological, socio-environmental and behavioral factors."
      ],
      "metadata": {
        "id": "AfDVKXo6pJWs"
      }
    },
    {
      "cell_type": "code",
      "source": [
        "import statsmodels.api as sm\n",
        "import numpy as np;\n",
        "import pandas as pd\n",
        "\n",
        "merged_path = '/content/drive/MyDrive/Shepherd Center Project/merged.csv'\n",
        "merged_df = pd.read_csv(merged_path)\n",
        "\n",
        "risk_df = merged_df.copy()\n",
        "\n",
        "# Drop all instances of 7 and 9 in the BPrUlcer (unknown and declined/Participant doesn't know responses)\n",
        "risk_df = risk_df.drop(risk_df.loc[(risk_df['BPrUlcer'] == 7) | (risk_df['BPrUlcer'] == 9)].index)\n",
        "\n",
        "# Drop rows with with nans\n",
        "risk_df = risk_df.dropna(subset=['BPrUlcer', 'AInjAge', 'ASex', 'AHghtRhb', 'CoreInjurySeverity',\\\n",
        "    'AWghtRhb', 'ARace', 'AFmIncLv', 'AEducLvl', 'ABPHQSDS', 'AAnxiety', 'ARsTScr', 'BCHSocIn', 'ASATob', 'AAlcRate', ])\n",
        "\n",
        "# Display current amount of PU present\n",
        "display(\"Current Count of Ulcers Present vs No Ulcers = \", risk_df['BPrUlcer'].value_counts())\n",
        "print()\n",
        "print()\n",
        "\n",
        "# Might need in future\n",
        "risk_df.loc[:, 'BPrUlcer'] = risk_df['BPrUlcer'].apply(recode_bpr_ulcer)\n",
        "\n",
        "# Apply the recoding function and fill in nans with mean\n",
        "risk_df['CoreInjurySeverity'] = risk_df['CoreInjurySeverity'].apply(recode_core_injury_severity)\n",
        "risk_df['CoreInjurySeverity'].fillna(risk_df['CoreInjurySeverity'].mean(), inplace=True)\n",
        "\n",
        "# Define X and Y\n",
        "y = risk_df['BPrUlcer']\n",
        "X = risk_df[['AInjAge', 'ASex', 'AHghtRhb', 'AWghtRhb', 'CoreInjurySeverity', 'ARace', 'AFmIncLv', 'AEducLvl',\\\n",
        "    'ABPHQSDS', 'AAnxiety', 'BCHSocIn', 'ASATob', 'AAlcRate']]\n",
        "\n",
        "# Fit the MLR model\n",
        "risk_factors_model = sm.OLS(y, X).fit()\n",
        "\n",
        "# Print summary\n",
        "print(risk_factors_model.summary())"
      ],
      "metadata": {
        "colab": {
          "base_uri": "https://localhost:8080/",
          "height": 851
        },
        "id": "XjF4OpOnoeTz",
        "outputId": "69d086af-8d7b-4067-fee1-1cf9eb8afc24"
      },
      "execution_count": 59,
      "outputs": [
        {
          "output_type": "stream",
          "name": "stderr",
          "text": [
            "<ipython-input-59-0a7def90e5f0>:6: DtypeWarning: Columns (12,344,496,658,982) have mixed types. Specify dtype option on import or set low_memory=False.\n",
            "  merged_df = pd.read_csv(merged_path)\n"
          ]
        },
        {
          "output_type": "display_data",
          "data": {
            "text/plain": [
              "'Current Count of Ulcers Present vs No Ulcers = '"
            ],
            "application/vnd.google.colaboratory.intrinsic+json": {
              "type": "string"
            }
          },
          "metadata": {}
        },
        {
          "output_type": "display_data",
          "data": {
            "text/plain": [
              "BPrUlcer\n",
              "0.0    15139\n",
              "1.0     6260\n",
              "Name: count, dtype: int64"
            ]
          },
          "metadata": {}
        },
        {
          "output_type": "stream",
          "name": "stdout",
          "text": [
            "\n",
            "\n",
            "                                 OLS Regression Results                                \n",
            "=======================================================================================\n",
            "Dep. Variable:               BPrUlcer   R-squared (uncentered):                   0.290\n",
            "Model:                            OLS   Adj. R-squared (uncentered):              0.290\n",
            "Method:                 Least Squares   F-statistic:                              673.3\n",
            "Date:                Sun, 02 Jun 2024   Prob (F-statistic):                        0.00\n",
            "Time:                        22:36:40   Log-Likelihood:                         -13542.\n",
            "No. Observations:               21399   AIC:                                  2.711e+04\n",
            "Df Residuals:                   21386   BIC:                                  2.721e+04\n",
            "Df Model:                          13                                                  \n",
            "Covariance Type:            nonrobust                                                  \n",
            "======================================================================================\n",
            "                         coef    std err          t      P>|t|      [0.025      0.975]\n",
            "--------------------------------------------------------------------------------------\n",
            "AInjAge                0.0006      0.000      2.972      0.003       0.000       0.001\n",
            "ASex                   0.0342      0.007      4.840      0.000       0.020       0.048\n",
            "AHghtRhb              -0.0002   3.87e-05     -5.754      0.000      -0.000      -0.000\n",
            "AWghtRhb               0.0003   4.34e-05      7.598      0.000       0.000       0.000\n",
            "CoreInjurySeverity    -0.0184      0.002     -7.888      0.000      -0.023      -0.014\n",
            "ARace                  0.0069      0.002      3.480      0.001       0.003       0.011\n",
            "AFmIncLv               0.0176      0.003      6.848      0.000       0.013       0.023\n",
            "AEducLvl              -0.0023      0.002     -1.155      0.248      -0.006       0.002\n",
            "ABPHQSDS              -0.0016      0.000     -4.215      0.000      -0.002      -0.001\n",
            "AAnxiety              -0.0104      0.003     -3.642      0.000      -0.016      -0.005\n",
            "BCHSocIn               0.0001   1.93e-05      6.340      0.000    8.47e-05       0.000\n",
            "ASATob                 0.0324      0.004      7.298      0.000       0.024       0.041\n",
            "AAlcRate               0.0011      0.003      0.333      0.739      -0.005       0.008\n",
            "==============================================================================\n",
            "Omnibus:                    12114.818   Durbin-Watson:                   1.715\n",
            "Prob(Omnibus):                  0.000   Jarque-Bera (JB):             3889.678\n",
            "Skew:                           0.882   Prob(JB):                         0.00\n",
            "Kurtosis:                       1.880   Cond. No.                     2.33e+03\n",
            "==============================================================================\n",
            "\n",
            "Notes:\n",
            "[1] R² is computed without centering (uncentered) since the model does not contain a constant.\n",
            "[2] Standard Errors assume that the covariance matrix of the errors is correctly specified.\n",
            "[3] The condition number is large, 2.33e+03. This might indicate that there are\n",
            "strong multicollinearity or other numerical problems.\n"
          ]
        }
      ]
    },
    {
      "cell_type": "markdown",
      "source": [
        "Let's check the VIF values for each variable and decide which have high levels of multicolinearity. Also going to cross validate to check the cv R-squared of the model."
      ],
      "metadata": {
        "id": "uIJVgjJ0pO5C"
      }
    },
    {
      "cell_type": "code",
      "source": [
        "from statsmodels.stats.outliers_influence import variance_inflation_factor\n",
        "# Dropped so far are 'ARsTScr' , 'ASATob', 'AWghtRhb',  'AAlcRate',  'AFmIncLv',  'ABPHQSDS'\n",
        "\n",
        "# Calculate VIF for each explanatory variable\n",
        "vif = pd.DataFrame()\n",
        "vif[\"Variable\"] = X.columns\n",
        "vif[\"VIF\"] = [variance_inflation_factor(X.values, i) for i in range(X.shape[1])]\n",
        "\n",
        "print(vif)\n",
        "\n",
        "from sklearn.model_selection import cross_val_score\n",
        "from sklearn.linear_model import LinearRegression\n",
        "\n",
        "# Prepare the model\n",
        "lin_reg = LinearRegression()\n",
        "\n",
        "print()\n",
        "# Perform cross-validation\n",
        "scores = cross_val_score(lin_reg, X, y, cv=10, scoring='r2')\n",
        "print(\"Cross-validated R-squared: \", np.mean(scores))\n"
      ],
      "metadata": {
        "colab": {
          "base_uri": "https://localhost:8080/"
        },
        "id": "a7d8eCuVpPSI",
        "outputId": "47b4eb32-c363-4a61-9f76-d72e24b9f524"
      },
      "execution_count": 60,
      "outputs": [
        {
          "output_type": "stream",
          "name": "stdout",
          "text": [
            "              Variable         VIF\n",
            "0              AInjAge    7.030405\n",
            "1                 ASex    8.355123\n",
            "2             AHghtRhb   78.657364\n",
            "3             AWghtRhb  102.167847\n",
            "4   CoreInjurySeverity    7.725016\n",
            "5                ARace    2.065648\n",
            "6             AFmIncLv   40.735998\n",
            "7             AEducLvl    6.158400\n",
            "8             ABPHQSDS  137.919231\n",
            "9             AAnxiety   46.732554\n",
            "10            BCHSocIn    1.486660\n",
            "11              ASATob  149.952848\n",
            "12            AAlcRate   65.975693\n",
            "\n",
            "Cross-validated R-squared:  0.009069200034129787\n"
          ]
        }
      ]
    },
    {
      "cell_type": "markdown",
      "source": [
        "There's many variables with very high VIF values which indicate multiclinearity and a lack of stability with these current variables. Let's create a residuals plot to see how good of a fit our model is visually."
      ],
      "metadata": {
        "id": "WfqZnRTkpTAj"
      }
    },
    {
      "cell_type": "code",
      "source": [
        "import matplotlib.pyplot as plt\n",
        "import seaborn as sns\n",
        "\n",
        "residuals = risk_factors_model.resid\n",
        "fitted_values = risk_factors_model.predict()\n",
        "\n",
        "sns.scatterplot(x=fitted_values, y=residuals)\n",
        "plt.axhline(y=0, color='red')\n",
        "plt.xlabel('Fitted Values')\n",
        "plt.ylabel('Residuals')\n",
        "plt.title('Residuals vs Fitted Values')\n",
        "plt.show()"
      ],
      "metadata": {
        "colab": {
          "base_uri": "https://localhost:8080/",
          "height": 472
        },
        "id": "tYn5EoAfpQhr",
        "outputId": "b47e4155-c911-4d62-fda0-9c0a98b102d6"
      },
      "execution_count": 61,
      "outputs": [
        {
          "output_type": "display_data",
          "data": {
            "text/plain": [
              "<Figure size 640x480 with 1 Axes>"
            ],
            "image/png": "[encoded data removed]"
          },
          "metadata": {}
        }
      ]
    },
    {
      "cell_type": "markdown",
      "source": [
        "We can see based on the tight fit of all the points and clear negative linear relationship that our current model is not an ideal fit for the data. Ideally we would like there to be less of a pattern so we could meet the conditions of linearity and independence."
      ],
      "metadata": {
        "id": "A8I_FnHgpXcJ"
      }
    },
    {
      "cell_type": "markdown",
      "source": [
        "Let's create an XGBoost model in order to see which features it deems most important since we have such a variety of variables and VIF/multicolinearity issues with our multiple linear regression."
      ],
      "metadata": {
        "id": "aLVEP4csv4dI"
      }
    },
    {
      "cell_type": "code",
      "source": [
        "import xgboost as xgb\n",
        "\n",
        "# Create an XGBoost model\n",
        "model = xgb.XGBClassifier(objective=\"binary:logistic\", seed=42)\n",
        "\n",
        "# Train the model\n",
        "model.fit(X, y)\n",
        "\n",
        "# Make predictions\n",
        "y_pred = model.predict(X)\n",
        "\n",
        "# Evaluate the model\n",
        "accuracy = np.mean(y_pred == y)\n",
        "print(\"Accuracy:\", accuracy)\n"
      ],
      "metadata": {
        "colab": {
          "base_uri": "https://localhost:8080/"
        },
        "id": "RMNXOIWtpX0Z",
        "outputId": "3e1880ba-f038-4f60-e05a-980ce34dd900"
      },
      "execution_count": 62,
      "outputs": [
        {
          "output_type": "stream",
          "name": "stdout",
          "text": [
            "Accuracy: 0.7923267442403851\n"
          ]
        }
      ]
    },
    {
      "cell_type": "code",
      "source": [
        "# Get feature importance\n",
        "importances = model.feature_importances_\n",
        "\n",
        "# Create a dataframe with feature importance\n",
        "feature_importance_df = pd.DataFrame({\n",
        "    \"feature\": X.columns,\n",
        "    \"importance\": importances\n",
        "})\n",
        "\n",
        "# Sort the dataframe by importance\n",
        "feature_importance_df = feature_importance_df.sort_values(by=\"importance\", ascending=False)\n",
        "\n",
        "# Print the top 5 most important features\n",
        "print(feature_importance_df)\n"
      ],
      "metadata": {
        "colab": {
          "base_uri": "https://localhost:8080/"
        },
        "id": "A3xak8Y8ue4Z",
        "outputId": "39fa422e-68a2-4070-b622-aab5d52addc2"
      },
      "execution_count": 63,
      "outputs": [
        {
          "output_type": "stream",
          "name": "stdout",
          "text": [
            "               feature  importance\n",
            "4   CoreInjurySeverity    0.302294\n",
            "10            BCHSocIn    0.068201\n",
            "11              ASATob    0.063521\n",
            "5                ARace    0.062606\n",
            "7             AEducLvl    0.060057\n",
            "0              AInjAge    0.059153\n",
            "12            AAlcRate    0.058190\n",
            "3             AWghtRhb    0.057433\n",
            "6             AFmIncLv    0.055654\n",
            "8             ABPHQSDS    0.054453\n",
            "2             AHghtRhb    0.054181\n",
            "9             AAnxiety    0.053575\n",
            "1                 ASex    0.050682\n"
          ]
        }
      ]
    },
    {
      "cell_type": "markdown",
      "source": [
        "\n",
        "The XGboost model achieved an accuracy of 0.79 on the dataset. This means that the model correctly predicted the presence or absence of pressure ulcers in 79% of the cases.\n",
        "\n",
        "CoreInjurySeverity is clearly the most influential variable in our model, which makes sense given the nature of pressure ulcers."
      ],
      "metadata": {
        "id": "6lENwnpHvt5l"
      }
    },
    {
      "cell_type": "code",
      "source": [
        "import pickle\n",
        "\n",
        "# Save the model to a file\n",
        "with open('/content/drive/MyDrive/Shepherd Center Project/risk_factors_model.pkl', 'wb') as f:\n",
        "  pickle.dump(model, f)\n",
        "\n",
        "# Load the model from the file\n",
        "with open('/content/drive/MyDrive/Shepherd Center Project/risk_factors_model.pkl', 'rb') as f:\n",
        "  loaded_model = pickle.load(f)\n"
      ],
      "metadata": {
        "id": "YUIkMh9E4uNO"
      },
      "execution_count": 64,
      "outputs": []
    },
    {
      "cell_type": "code",
      "source": [
        "with open('/content/drive/MyDrive/Shepherd Center Project/risk_factors_model.pkl', 'rb') as f:\n",
        "  model = pickle.load(f)\n",
        "  # Get feature importance\n",
        "  importances = model.feature_importances_\n",
        "\n",
        "# Create a dataframe with feature importance\n",
        "feature_importance_df_pickle = pd.DataFrame({\n",
        "    \"feature\": X.columns,\n",
        "    \"importance\": importances\n",
        "})\n",
        "\n",
        "feature_importance_df_pickle = feature_importance_df_pickle.sort_values(by=\"importance\", ascending=False)\n",
        "\n",
        "print(feature_importance_df_pickle)\n"
      ],
      "metadata": {
        "colab": {
          "base_uri": "https://localhost:8080/"
        },
        "id": "spmojM525VNw",
        "outputId": "d3b6ff57-a1d7-4759-8661-9a4b45d6b6df"
      },
      "execution_count": 65,
      "outputs": [
        {
          "output_type": "stream",
          "name": "stdout",
          "text": [
            "               feature  importance\n",
            "4   CoreInjurySeverity    0.302294\n",
            "10            BCHSocIn    0.068201\n",
            "11              ASATob    0.063521\n",
            "5                ARace    0.062606\n",
            "7             AEducLvl    0.060057\n",
            "0              AInjAge    0.059153\n",
            "12            AAlcRate    0.058190\n",
            "3             AWghtRhb    0.057433\n",
            "6             AFmIncLv    0.055654\n",
            "8             ABPHQSDS    0.054453\n",
            "2             AHghtRhb    0.054181\n",
            "9             AAnxiety    0.053575\n",
            "1                 ASex    0.050682\n"
          ]
        }
      ]
    },
    {
      "cell_type": "markdown",
      "source": [
        "We can see that CoreInjurySeverity is by far the most important feature according to XGBoost, which I found to be interesting after the linear regression results. I decided to run another multiple linear regression with just the top 5 features returned from our XGBoost exploration."
      ],
      "metadata": {
        "id": "WIVQUEMHIA5I"
      }
    },
    {
      "cell_type": "code",
      "source": [
        "# Define X and Y\n",
        "y = risk_df['BPrUlcer']\n",
        "X = risk_df[['CoreInjurySeverity', 'BCHSocIn', 'ASATob', 'ARace', 'AEducLvl', 'AInjAge', 'AHghtRhb']]\n",
        "\n",
        "# Fit the MLR model\n",
        "risk_factors_model_top_7 = sm.OLS(y, X).fit()\n",
        "\n",
        "# Print summary\n",
        "print(risk_factors_model_top_7.summary())\n"
      ],
      "metadata": {
        "colab": {
          "base_uri": "https://localhost:8080/"
        },
        "id": "D6CtQWov6FMn",
        "outputId": "b5ac05f8-2f4b-4ed8-8b81-aa65b5279965"
      },
      "execution_count": 78,
      "outputs": [
        {
          "output_type": "stream",
          "name": "stdout",
          "text": [
            "                                 OLS Regression Results                                \n",
            "=======================================================================================\n",
            "Dep. Variable:               BPrUlcer   R-squared (uncentered):                   0.284\n",
            "Model:                            OLS   Adj. R-squared (uncentered):              0.284\n",
            "Method:                 Least Squares   F-statistic:                              1213.\n",
            "Date:                Sun, 02 Jun 2024   Prob (F-statistic):                        0.00\n",
            "Time:                        23:22:52   Log-Likelihood:                         -13636.\n",
            "No. Observations:               21399   AIC:                                  2.729e+04\n",
            "Df Residuals:                   21392   BIC:                                  2.734e+04\n",
            "Df Model:                           7                                                  \n",
            "Covariance Type:            nonrobust                                                  \n",
            "======================================================================================\n",
            "                         coef    std err          t      P>|t|      [0.025      0.975]\n",
            "--------------------------------------------------------------------------------------\n",
            "CoreInjurySeverity    -0.0110      0.002     -4.861      0.000      -0.015      -0.007\n",
            "BCHSocIn               0.0001   1.93e-05      7.174      0.000       0.000       0.000\n",
            "ASATob                 0.0216      0.001     19.303      0.000       0.019       0.024\n",
            "ARace                  0.0102      0.002      5.155      0.000       0.006       0.014\n",
            "AEducLvl               0.0033      0.002      1.715      0.086      -0.000       0.007\n",
            "AInjAge                0.0015      0.000      7.296      0.000       0.001       0.002\n",
            "AHghtRhb            7.815e-05    7.8e-06     10.026      0.000    6.29e-05    9.34e-05\n",
            "==============================================================================\n",
            "Omnibus:                    12058.189   Durbin-Watson:                   1.702\n",
            "Prob(Omnibus):                  0.000   Jarque-Bera (JB):             3883.729\n",
            "Skew:                           0.881   Prob(JB):                         0.00\n",
            "Kurtosis:                       1.881   Cond. No.                         543.\n",
            "==============================================================================\n",
            "\n",
            "Notes:\n",
            "[1] R² is computed without centering (uncentered) since the model does not contain a constant.\n",
            "[2] Standard Errors assume that the covariance matrix of the errors is correctly specified.\n"
          ]
        }
      ]
    },
    {
      "cell_type": "code",
      "source": [
        "# Calculate VIF for each explanatory variable\n",
        "vif_top_7 = pd.DataFrame()\n",
        "vif_top_7[\"Variable\"] = X.columns\n",
        "vif_top_7[\"VIF\"] = [variance_inflation_factor(X.values, i) for i in range(X.shape[1])]\n",
        "\n",
        "print(vif_top_7)\n",
        "\n",
        "# Prepare the model\n",
        "lin_reg_top_7 = LinearRegression()\n",
        "\n",
        "# Perform cross-validation\n",
        "scores_top_7 = cross_val_score(lin_reg_top_7, X, y, cv=10, scoring='r2')\n",
        "print(\"Cross-validated R-squared: \", np.mean(scores_top_7))"
      ],
      "metadata": {
        "colab": {
          "base_uri": "https://localhost:8080/"
        },
        "id": "xIMqKpHYEnwD",
        "outputId": "1b5132df-3622-4455-90d7-d294bf5bfd4a"
      },
      "execution_count": 80,
      "outputs": [
        {
          "output_type": "stream",
          "name": "stdout",
          "text": [
            "             Variable       VIF\n",
            "0  CoreInjurySeverity  7.187373\n",
            "1            BCHSocIn  1.472634\n",
            "2              ASATob  9.457122\n",
            "3               ARace  2.031075\n",
            "4            AEducLvl  5.726650\n",
            "5             AInjAge  6.211668\n",
            "6            AHghtRhb  3.164900\n",
            "Cross-validated R-squared:  0.008257522863520272\n"
          ]
        }
      ]
    },
    {
      "cell_type": "markdown",
      "source": [
        "Multicolinearity is certainly reduced due to the lower number of features, however R^2 is still quite weak and so is CV R^2."
      ],
      "metadata": {
        "id": "2rvdITuHHVvE"
      }
    },
    {
      "cell_type": "code",
      "source": [
        "# Create a residuals plot\n",
        "residuals_top_7 = risk_factors_model_top_7.resid\n",
        "fitted_values_top_7 = risk_factors_model_top_7.predict()\n",
        "\n",
        "sns.scatterplot(x=fitted_values_top_7, y=residuals_top_7)\n",
        "plt.axhline(y=0, color='red')\n",
        "plt.xlabel('Fitted Values')\n",
        "plt.ylabel('Residuals')\n",
        "plt.title('Residuals vs Fitted Values')\n",
        "plt.show()\n"
      ],
      "metadata": {
        "colab": {
          "base_uri": "https://localhost:8080/",
          "height": 472
        },
        "id": "KYUWAvDZD3hT",
        "outputId": "29ad0b4c-5989-40bf-fa22-d01e39dc5760"
      },
      "execution_count": 81,
      "outputs": [
        {
          "output_type": "display_data",
          "data": {
            "text/plain": [
              "<Figure size 640x480 with 1 Axes>"
            ],
            "image/png": "[encoded data removed]"
          },
          "metadata": {}
        }
      ]
    },
    {
      "cell_type": "markdown",
      "source": [
        "Residuals plot looks slighty better, but still very patterned and indicative of a poor fit."
      ],
      "metadata": {
        "id": "o1llbaLHHsIE"
      }
    },
    {
      "cell_type": "code",
      "source": [
        "# Define X and Y\n",
        "y = risk_df['BPrUlcer']\n",
        "X = risk_df[['CoreInjurySeverity', 'BCHSocIn', 'ASATob', 'ARace', 'AEducLvl', 'AInjAge', 'AHghtRhb']]\n",
        "\n",
        "# Fit a Random Forest model\n",
        "from sklearn.ensemble import RandomForestClassifier\n",
        "model = RandomForestClassifier()\n",
        "model.fit(X, y)\n",
        "\n",
        "# Evaluate the model\n",
        "from sklearn.model_selection import cross_val_score\n",
        "scores = cross_val_score(model, X, y, cv=10)\n",
        "print(\"Cross-validation accuracy:\", np.mean(scores))\n",
        "\n",
        "# Get feature importance\n",
        "importances = model.feature_importances_\n",
        "\n",
        "# Create a dataframe with feature importance\n",
        "feature_importance_df = pd.DataFrame({\n",
        "    \"feature\": X.columns,\n",
        "    \"importance\": importances\n",
        "})\n",
        "\n",
        "# Sort the dataframe by importance\n",
        "feature_importance_df = feature_importance_df.sort_values(by=\"importance\", ascending=False)\n",
        "\n",
        "print(feature_importance_df)"
      ],
      "metadata": {
        "colab": {
          "base_uri": "https://localhost:8080/"
        },
        "id": "aIitrINdLOu8",
        "outputId": "8617d382-44f8-44fe-929d-274fce8ab6f0"
      },
      "execution_count": 84,
      "outputs": [
        {
          "output_type": "stream",
          "name": "stdout",
          "text": [
            "Cross-validation accuracy: 0.6503577092972959\n",
            "              feature  importance\n",
            "5             AInjAge    0.337066\n",
            "1            BCHSocIn    0.252751\n",
            "6            AHghtRhb    0.149462\n",
            "0  CoreInjurySeverity    0.102089\n",
            "4            AEducLvl    0.085961\n",
            "3               ARace    0.047720\n",
            "2              ASATob    0.024950\n"
          ]
        }
      ]
    },
    {
      "cell_type": "markdown",
      "source": [
        "Our accuracy was greatly improved in comparison to the multiple linear regression, likely due to the wider breadth of data that random forest can account for. We were also able to see a reoccuring trend in the most important features found through the 3 types of models (MLR, XGBoost, and Random Forest). Injury age, societal inclusion levels, height, and core injury severity all appeared to be some of the most important factors in predicting the presence of pressure ulcers. This would make sense when analyzing the nature of these features since many of them relate to mobility, overall body composition, and injury levels which are all very important when it comes to pressure ulcers."
      ],
      "metadata": {
        "id": "BYXnN8tvJxPv"
      }
    },
    {
      "cell_type": "code",
      "source": [],
      "metadata": {
        "id": "3bxHltBOJ4L-"
      },
      "execution_count": null,
      "outputs": []
    }
  ]
}
